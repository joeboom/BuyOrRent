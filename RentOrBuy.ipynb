{
 "cells": [
  {
   "cell_type": "code",
   "execution_count": 63,
   "metadata": {},
   "outputs": [],
   "source": [
    "\n",
    "### Person class (parent class of buyer and renter classes) which stores a person's assets and liabilities.\n",
    "class Person:\n",
    "    \n",
    "    def __init__(self, assets, liabilities):\n",
    "        self.assets = assets\n",
    "        self.liabilities = liabilities\n",
    "        \n",
    "    def change_assets(self, delta):\n",
    "        self.assets+=delta\n",
    "        \n",
    "    def change_liabilities(self, delta):\n",
    "        self.liabilities+=delta\n",
    "\n",
    "class Renter(Person):\n",
    "    pass\n",
    "\n",
    "\n",
    "class Buyer(Person):\n",
    "    \n",
    "    def buy_home(self, home):\n",
    "        \n",
    "        #The amoutn that is paid upon purhcase of home (should decrease assets)\n",
    "        immediate_payment = home.down_payment+home.provincial_tax+home.municipal_tax+home.municipal_rebate+\\\n",
    "        home.insurance_pst+home.legal_fees+home.title_insurance+home.inspection_fee+home.appraisal_fee\n",
    "        \n",
    "        #increase in liability (i.e., total mortgage amount)\n",
    "        increase_in_liability = home.price - home.down_payment + home.default_insrance\n",
    "        \n",
    "        #increase in assets (i.e., price of home on purchase data)\n",
    "        increase_in_assets = home.price\n",
    "        \n",
    "        #apply the changes calculated above to the instance of buyer.\n",
    "        self.change_assets(increase_in_assets - immediate_payment)\n",
    "        self.change_liabilities(increase_in_liability)\n",
    "        \n",
    "\n",
    "### Home class which holds all paramenters for the initial purchase of the home for a buyer.\n",
    "class Home():\n",
    "    \n",
    "    def __init__(self, price=500000, dp=25000, def_ins=14175, pltt=6475, mltt=6475, mreb=-3725, ins_pst=1134,\n",
    "                legal=1000, title_ins=500, inspection=500, appraisal=300):\n",
    "        self.price = price\n",
    "        self.down_payment = dp\n",
    "        self.default_insrance = def_ins\n",
    "        self.provincial_tax = pltt\n",
    "        self.municipal_tax = mltt\n",
    "        self.municipal_rebate = mreb\n",
    "        self.insurance_pst = ins_pst\n",
    "        self.legal_fees = legal\n",
    "        self.title_insurance = title_ins\n",
    "        self.inspection_fee = inspection\n",
    "        self.appraisal_fee = appraisal\n",
    "        "
   ]
  },
  {
   "cell_type": "code",
   "execution_count": 58,
   "metadata": {},
   "outputs": [],
   "source": [
    "jp = Buyer(50000,0)"
   ]
  },
  {
   "cell_type": "code",
   "execution_count": 59,
   "metadata": {},
   "outputs": [],
   "source": [
    "home = Home()"
   ]
  },
  {
   "cell_type": "code",
   "execution_count": 60,
   "metadata": {},
   "outputs": [],
   "source": [
    "jp.buy_home(home)"
   ]
  },
  {
   "cell_type": "code",
   "execution_count": 62,
   "metadata": {},
   "outputs": [
    {
     "data": {
      "text/plain": [
       "23166"
      ]
     },
     "execution_count": 62,
     "metadata": {},
     "output_type": "execute_result"
    }
   ],
   "source": []
  }
 ],
 "metadata": {
  "kernelspec": {
   "display_name": "Python 3",
   "language": "python",
   "name": "python3"
  },
  "language_info": {
   "codemirror_mode": {
    "name": "ipython",
    "version": 3
   },
   "file_extension": ".py",
   "mimetype": "text/x-python",
   "name": "python",
   "nbconvert_exporter": "python",
   "pygments_lexer": "ipython3",
   "version": "3.6.5"
  }
 },
 "nbformat": 4,
 "nbformat_minor": 2
}
