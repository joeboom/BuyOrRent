{
 "cells": [
  {
   "cell_type": "code",
   "execution_count": 126,
   "metadata": {},
   "outputs": [],
   "source": [
    "\n",
    "### Person class (parent class of buyer and renter classes) which stores a person's assets and liabilities.\n",
    "class Person:\n",
    "    \n",
    "    def __init__(self, assets, liabilities):\n",
    "        self.assets = assets\n",
    "        self.liabilities = liabilities\n",
    "        \n",
    "    def change_assets(self, delta):\n",
    "        self.assets+=delta\n",
    "        \n",
    "    def change_liabilities(self, delta):\n",
    "        self.liabilities+=delta\n",
    "\n",
    "class Renter(Person):\n",
    "    pass\n",
    "\n",
    "\n",
    "class Buyer(Person):\n",
    "    \n",
    "    def buy_home(self, home):\n",
    "        \n",
    "        #The amoutn that is paid upon purhcase of home (should decrease assets)\n",
    "        immediate_payment = home.down_payment+home.provincial_tax+home.municipal_tax+home.municipal_rebate+\\\n",
    "        home.insurance_pst+home.legal_fees+home.title_insurance+home.inspection_fee+home.appraisal_fee\n",
    "        \n",
    "        #increase in liability (i.e., total mortgage amount)\n",
    "        increase_in_liability = home.price - home.down_payment + home.default_insrance\n",
    "        \n",
    "        #increase in assets (i.e., price of home on purchase data)\n",
    "        increase_in_assets = home.price\n",
    "        \n",
    "        #apply the changes calculated above to the instance of buyer.\n",
    "        self.change_assets(increase_in_assets - immediate_payment)\n",
    "        self.change_liabilities(increase_in_liability)\n",
    "    \n",
    "    def annual_payment(self, home):\n",
    "        \n",
    "        #return total annual mortgage payment including interest and principal amounts\n",
    "        #include $1k for property tax and insurance and maintenance\n",
    "        borrowed = home.price - home.down_payment + home.default_insrance\n",
    "        maintenance = home.price*.01\n",
    "        interest = 0.03/12\n",
    "        periods = 12*25\n",
    "        payment = borrowed*(interest*(1+interest)**periods)/((1+interest)**periods - 1)\n",
    "        return(payment*12 + maintenance)\n",
    "        \n",
    "        \n",
    "\n",
    "### Home class which holds all paramenters for the initial purchase of the home for a buyer.\n",
    "class Home():\n",
    "    \n",
    "    def __init__(self, price=500000, dp=25000, def_ins=14175, pltt=6475, mltt=6475, mreb=-3725, ins_pst=1134,\n",
    "                legal=1000, title_ins=500, inspection=500, appraisal=300):\n",
    "        self.price = price\n",
    "        self.down_payment = dp\n",
    "        self.default_insrance = def_ins\n",
    "        self.provincial_tax = pltt\n",
    "        self.municipal_tax = mltt\n",
    "        self.municipal_rebate = mreb\n",
    "        self.insurance_pst = ins_pst\n",
    "        self.legal_fees = legal\n",
    "        self.title_insurance = title_ins\n",
    "        self.inspection_fee = inspection\n",
    "        self.appraisal_fee = appraisal\n",
    "        "
   ]
  },
  {
   "cell_type": "code",
   "execution_count": 2,
   "metadata": {},
   "outputs": [],
   "source": [
    "import pandas as pd"
   ]
  },
  {
   "cell_type": "code",
   "execution_count": 3,
   "metadata": {},
   "outputs": [],
   "source": [
    "### Setting up a 'rents' df which shows the mean price of rental appartments in Toronto\n",
    "#various different types of homes.\n",
    "\n",
    "rents = pd.read_csv('/Users/joel/Documents/GithubProjects/BuyOrRent/rent.csv', header=2)\n",
    "rents['Year'] = [i for i in range(1990,2018)]\n",
    "rent_columns = ['Year','Bachelor', '1 Bedroom', '2 Bedroom', '3 Bedroom +']\n",
    "rents = rents.loc[:,rent_columns]\n"
   ]
  },
  {
   "cell_type": "code",
   "execution_count": 4,
   "metadata": {},
   "outputs": [],
   "source": [
    "### Setting up a 'house_prices' df which shows the mean purchase price of homes in\n",
    "# select Canadian cities.\n",
    "\n",
    "house_prices = pd.read_csv('/Users/joel/Documents/GithubProjects/BuyOrRent/TorontoHousePriceIndex.csv')\n",
    "house_prices.index = house_prices['Transaction Date']\n",
    "cols_ = ['ns_halifax', 'on_toronto']\n",
    "house_prices.index = house_prices['Transaction Date']\n",
    "rows_ = [i for i in house_prices.index if 'Dec' in i]\n",
    "house_prices = house_prices.loc[rows_,cols_]"
   ]
  },
  {
   "cell_type": "code",
   "execution_count": 223,
   "metadata": {},
   "outputs": [],
   "source": [
    "### Setting up an 'equity' df which shows the closing price of the XIU index on each\n",
    "# of the last days in the years 1999-2017 and partially the last day in 2018.\n",
    "equity = pd.read_csv('/Users/joel/Documents/GithubProjects/BuyOrRent/XIU.TO.csv')\n",
    "stamps = [pd.to_datetime(i) for i in equity['Date']]\n",
    "equity['Date'] = stamps\n",
    "equity['year'] = [i.year for i in equity['Date']]\n",
    "equity['month'] = [i.month for i in equity['Date']]\n",
    "equity['day'] = [i.day for i in equity['Date']]\n",
    "equity_grouped = equity.groupby(['year'])\n",
    "\n",
    "lasts = []\n",
    "for i,j in equity_grouped:\n",
    "    lasts.append(j.index[-1])\n",
    "    \n",
    "equity = pd.DataFrame(equity.loc[lasts,['Date','Close']])\n",
    "equity=equity.reset_index(drop=True)"
   ]
  },
  {
   "cell_type": "code",
   "execution_count": 127,
   "metadata": {},
   "outputs": [],
   "source": [
    "# Create a 1 instance each of a Buyer and Seller. Pass house to buyer and then compare net assets at year 0. \n",
    "\n",
    "asset_starting, liabilities_starting = 50000,0\n",
    "\n",
    "ronnie = Renter(asset_starting, liabilities_starting)\n",
    "bonnie = Buyer(asset_starting, liabilities_starting)\n",
    "\n",
    "crib = Home()\n",
    "\n",
    "bonnie.buy_home(crib)"
   ]
  },
  {
   "cell_type": "code",
   "execution_count": 299,
   "metadata": {},
   "outputs": [
    {
     "data": {
      "text/plain": [
       "2319.7231945633052"
      ]
     },
     "execution_count": 299,
     "metadata": {},
     "output_type": "execute_result"
    }
   ],
   "source": [
    "#Set up annual Cashflows\n",
    "\n",
    "# buyer has mortgage payment, property tax and insurance, and maintenance\n",
    "bonnie_flow = bonnie.annual_payment(crib)\n",
    "\n",
    "#seller will spend the same as buyer (to make a comprable scenario) and use any excess over rent\n",
    "# and renter's insurance to buy equity\n",
    "\n",
    "ronnie_flow = bonnie_flow\n",
    "ronnie_rent = 2000\n",
    "ronnie_insurance = 25\n",
    "ronnie_equity = ronnie_flow - ronnie_rent*12 - ronnie_insurance*12\n",
    "(bonnie_flow-5000)/12"
   ]
  },
  {
   "cell_type": "code",
   "execution_count": 193,
   "metadata": {},
   "outputs": [],
   "source": [
    "increases = []\n",
    "\n",
    "toronto_prices = house_prices['on_toronto'][8:]\n",
    "for i in range(len(toronto_prices)-1):\n",
    "    increases.append((toronto_prices[i+1]-toronto_prices[i])/toronto_prices[i])"
   ]
  },
  {
   "cell_type": "code",
   "execution_count": 300,
   "metadata": {},
   "outputs": [],
   "source": [
    "house_increase = sum(increases)/len(increases)-.02"
   ]
  },
  {
   "cell_type": "code",
   "execution_count": 318,
   "metadata": {},
   "outputs": [],
   "source": [
    "equity_increase = []\n",
    "equity_close = equity['Close']\n",
    "\n",
    "for i in range(len(equity_close)-1):\n",
    "    equity_increase.append((equity_close[i+1] - equity_close[i])/equity_close[i])"
   ]
  },
  {
   "cell_type": "code",
   "execution_count": 319,
   "metadata": {},
   "outputs": [],
   "source": [
    "equity_increase = sum(equity_increase)/len(equity_increase)-.02"
   ]
  },
  {
   "cell_type": "code",
   "execution_count": 324,
   "metadata": {},
   "outputs": [
    {
     "data": {
      "text/plain": [
       "1590911.726444616"
      ]
     },
     "execution_count": 324,
     "metadata": {},
     "output_type": "execute_result"
    }
   ],
   "source": [
    "house_price = 500000\n",
    "for i in range(25):\n",
    "    house_price = house_price*(1+house_increase)\n",
    "\n",
    "house_price"
   ]
  },
  {
   "cell_type": "code",
   "execution_count": 333,
   "metadata": {},
   "outputs": [
    {
     "data": {
      "text/plain": [
       "466681.26666554477"
      ]
     },
     "execution_count": 333,
     "metadata": {},
     "output_type": "execute_result"
    }
   ],
   "source": [
    "equity_price = ronnie_equity+4000\n",
    "\n",
    "for i in range(25):\n",
    "    equity_price = equity_price*(1+equity_increase)+ronnie_equity+4000\n",
    "\n",
    "equity_price"
   ]
  },
  {
   "cell_type": "code",
   "execution_count": 353,
   "metadata": {},
   "outputs": [
    {
     "data": {
      "text/plain": [
       "[<matplotlib.lines.Line2D at 0x118cc0a20>]"
      ]
     },
     "execution_count": 353,
     "metadata": {},
     "output_type": "execute_result"
    },
    {
     "data": {
      "image/png": "[encoded data removed]",
      "text/plain": [
       "<Figure size 432x288 with 1 Axes>"
      ]
     },
     "metadata": {},
     "output_type": "display_data"
    }
   ],
   "source": [
    "from matplotlib import pyplot as plt\n",
    "\n",
    "equity\n",
    "plt.plot(equity['Date'], equity['Close'])\n"
   ]
  }
 ],
 "metadata": {
  "kernelspec": {
   "display_name": "Python 3",
   "language": "python",
   "name": "python3"
  },
  "language_info": {
   "codemirror_mode": {
    "name": "ipython",
    "version": 3
   },
   "file_extension": ".py",
   "mimetype": "text/x-python",
   "name": "python",
   "nbconvert_exporter": "python",
   "pygments_lexer": "ipython3",
   "version": "3.6.5"
  }
 },
 "nbformat": 4,
 "nbformat_minor": 2
}
